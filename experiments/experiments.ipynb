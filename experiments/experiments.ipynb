{
 "cells": [
  {
   "cell_type": "code",
   "execution_count": 1,
   "id": "fd1bd1d6",
   "metadata": {},
   "outputs": [],
   "source": [
    "import re"
   ]
  },
  {
   "cell_type": "code",
   "execution_count": 17,
   "id": "0b5930cf",
   "metadata": {},
   "outputs": [
    {
     "name": "stdout",
     "output_type": "stream",
     "text": [
      "Abhishek R.\n",
      "Hello Hussain, thank you for contacting GreenGeeks.\n",
      "Hussain\n",
      "site still down for two days baitalasaad.com\n",
      "Customer ID: 173020\n",
      "Support PIN: 605233\n",
      "Abhishek R.\n",
      "Thank you, please allow me a moment to get your identity verified first.\n",
      "Copilot\n",
      "\n",
      "I tagged this chat as \"open/close\" based on the canned response you sent\n",
      "Internal note\n",
      "Abhishek R.\n",
      "I was able to successfully verify your account.\n",
      "Just a moment while I check that for you. Thank you for your patience.\n",
      "I can see that the website is working absolutely fine at my end, please check the screenshot: https://paste.websitehostserver.net/2025/07/08/text_QSUGwl4ZYP\n",
      "Hussain\n",
      "not working from my end last two days\n",
      "and tired from different locations and browers\n",
      "Abhishek R.\n",
      "Could you please share a screenshot of what you are seeing on your end?\n",
      "If you have a screenshot you wish to provide us, you can paste/upload your screenshot at https://snipboard.io/ or https://prnt.sc/\n",
      "\n",
      "Once you have generated your screenshot, please provide me with the image URL so we can further assist you.\n",
      "Copilot\n",
      "\n",
      "I tagged this chat as \"screenshot\" based on the canned response you sent\n",
      "Internal note\n",
      "Hussain\n",
      "https://snipboard.io/PTqsKx.jpg\n",
      "Abhishek R.\n",
      "Thank you, let me check on it. Please stay connected.   \n",
      "Could you please try to access the following website on a different network than the current one, like a mobile hotspot, and check if it still gives the error?\n",
      "Hussain\n",
      "i tired everything\n",
      "Abhishek R.\n",
      "Please do as suggested below:\n",
      "1. Clear Browser cookies/cache. You can refer to: http://www.wikihow.com/Clear-Your-Browser%27s-Cache\n",
      "\n",
      "2. Clear DNS cache. Refer to: http://www.tech-faq.com/how-to-flush-dns.html\n",
      "\n",
      "3. Reboot your Router.\n",
      "\n",
      "4. Reboot your PC and try again to access your admin.\n",
      "\n",
      "please make sure to follow each and every step if you still get the error please let us know.\n",
      "Archived - customer left the chat\n",
      "• 02:22 pm\n",
      "\n"
     ]
    }
   ],
   "source": [
    "chat2 = '''Abhishek R.\n",
    "Hello Hussain, thank you for contacting GreenGeeks.\n",
    "Hussain\n",
    "site still down for two days baitalasaad.com\n",
    "Customer ID: 173020\n",
    "Support PIN: 605233\n",
    "Abhishek R.\n",
    "Thank you, please allow me a moment to get your identity verified first.\n",
    "Copilot\n",
    "\n",
    "I tagged this chat as \"open/close\" based on the canned response you sent\n",
    "Internal note\n",
    "Abhishek R.\n",
    "I was able to successfully verify your account.\n",
    "Just a moment while I check that for you. Thank you for your patience.\n",
    "I can see that the website is working absolutely fine at my end, please check the screenshot: https://paste.websitehostserver.net/2025/07/08/text_QSUGwl4ZYP\n",
    "Hussain\n",
    "not working from my end last two days\n",
    "and tired from different locations and browers\n",
    "Abhishek R.\n",
    "Could you please share a screenshot of what you are seeing on your end?\n",
    "If you have a screenshot you wish to provide us, you can paste/upload your screenshot at https://snipboard.io/ or https://prnt.sc/\n",
    "\n",
    "Once you have generated your screenshot, please provide me with the image URL so we can further assist you.\n",
    "Copilot\n",
    "\n",
    "I tagged this chat as \"screenshot\" based on the canned response you sent\n",
    "Internal note\n",
    "Hussain\n",
    "https://snipboard.io/PTqsKx.jpg\n",
    "Abhishek R.\n",
    "Thank you, let me check on it. Please stay connected.   \n",
    "Could you please try to access the following website on a different network than the current one, like a mobile hotspot, and check if it still gives the error?\n",
    "Hussain\n",
    "i tired everything\n",
    "Abhishek R.\n",
    "Please do as suggested below:\n",
    "1. Clear Browser cookies/cache. You can refer to: http://www.wikihow.com/Clear-Your-Browser%27s-Cache\n",
    "\n",
    "2. Clear DNS cache. Refer to: http://www.tech-faq.com/how-to-flush-dns.html\n",
    "\n",
    "3. Reboot your Router.\n",
    "\n",
    "4. Reboot your PC and try again to access your admin.\n",
    "\n",
    "please make sure to follow each and every step if you still get the error please let us know.\n",
    "Archived - customer left the chat\n",
    "• 02:22 pm\n",
    "'''\n",
    "\n",
    "print(chat2)"
   ]
  },
  {
   "cell_type": "code",
   "execution_count": 18,
   "id": "c1eae869",
   "metadata": {},
   "outputs": [],
   "source": [
    "patterns = [\n",
    "    r'\\d{2}:\\d{2}', # datestamp\n",
    "    r'Copilot', #copilot\n",
    "    r'canned', #canned\n",
    "    r'Internal note', #internal notes\n",
    "    r'Archived - customer left' # Archived message\n",
    "]"
   ]
  },
  {
   "cell_type": "code",
   "execution_count": 19,
   "id": "3f160041",
   "metadata": {},
   "outputs": [],
   "source": [
    "def cleanup(chat_text, patterns):\n",
    "\n",
    "    chat_by_line = chat_text.split('\\n')\n",
    "    return [\n",
    "        line for line in chat_by_line\n",
    "        if not any(re.search(p, line) for p in patterns)\n",
    "    ]"
   ]
  },
  {
   "cell_type": "code",
   "execution_count": 20,
   "id": "8acf858c",
   "metadata": {},
   "outputs": [],
   "source": [
    "cleaned = cleanup(chat_text=chat2, patterns = patterns)"
   ]
  },
  {
   "cell_type": "code",
   "execution_count": 21,
   "id": "2e4d3a33",
   "metadata": {},
   "outputs": [
    {
     "data": {
      "text/plain": [
       "['Abhishek R.',\n",
       " 'Hello Hussain, thank you for contacting GreenGeeks.',\n",
       " 'Hussain',\n",
       " 'site still down for two days baitalasaad.com',\n",
       " 'Customer ID: 173020',\n",
       " 'Support PIN: 605233',\n",
       " 'Abhishek R.',\n",
       " 'Thank you, please allow me a moment to get your identity verified first.',\n",
       " '',\n",
       " 'Abhishek R.',\n",
       " 'I was able to successfully verify your account.',\n",
       " 'Just a moment while I check that for you. Thank you for your patience.',\n",
       " 'I can see that the website is working absolutely fine at my end, please check the screenshot: https://paste.websitehostserver.net/2025/07/08/text_QSUGwl4ZYP',\n",
       " 'Hussain',\n",
       " 'not working from my end last two days',\n",
       " 'and tired from different locations and browers',\n",
       " 'Abhishek R.',\n",
       " 'Could you please share a screenshot of what you are seeing on your end?',\n",
       " 'If you have a screenshot you wish to provide us, you can paste/upload your screenshot at https://snipboard.io/ or https://prnt.sc/',\n",
       " '',\n",
       " 'Once you have generated your screenshot, please provide me with the image URL so we can further assist you.',\n",
       " '',\n",
       " 'Hussain',\n",
       " 'https://snipboard.io/PTqsKx.jpg',\n",
       " 'Abhishek R.',\n",
       " 'Thank you, let me check on it. Please stay connected.   ',\n",
       " 'Could you please try to access the following website on a different network than the current one, like a mobile hotspot, and check if it still gives the error?',\n",
       " 'Hussain',\n",
       " 'i tired everything',\n",
       " 'Abhishek R.',\n",
       " 'Please do as suggested below:',\n",
       " '1. Clear Browser cookies/cache. You can refer to: http://www.wikihow.com/Clear-Your-Browser%27s-Cache',\n",
       " '',\n",
       " '2. Clear DNS cache. Refer to: http://www.tech-faq.com/how-to-flush-dns.html',\n",
       " '',\n",
       " '3. Reboot your Router.',\n",
       " '',\n",
       " '4. Reboot your PC and try again to access your admin.',\n",
       " '',\n",
       " 'please make sure to follow each and every step if you still get the error please let us know.',\n",
       " '']"
      ]
     },
     "execution_count": 21,
     "metadata": {},
     "output_type": "execute_result"
    }
   ],
   "source": [
    "cleaned"
   ]
  },
  {
   "cell_type": "markdown",
   "id": "a813d776",
   "metadata": {},
   "source": [
    "#### Clean blanks, extra whitespace"
   ]
  },
  {
   "cell_type": "code",
   "execution_count": 22,
   "id": "abd96e15",
   "metadata": {},
   "outputs": [],
   "source": [
    "cleaned = [line.strip() for line in cleaned if line != '']"
   ]
  },
  {
   "cell_type": "code",
   "execution_count": 23,
   "id": "71d50b42",
   "metadata": {},
   "outputs": [
    {
     "data": {
      "text/plain": [
       "['Abhishek R.',\n",
       " 'Hello Hussain, thank you for contacting GreenGeeks.',\n",
       " 'Hussain',\n",
       " 'site still down for two days baitalasaad.com',\n",
       " 'Customer ID: 173020',\n",
       " 'Support PIN: 605233',\n",
       " 'Abhishek R.',\n",
       " 'Thank you, please allow me a moment to get your identity verified first.',\n",
       " 'Abhishek R.',\n",
       " 'I was able to successfully verify your account.',\n",
       " 'Just a moment while I check that for you. Thank you for your patience.',\n",
       " 'I can see that the website is working absolutely fine at my end, please check the screenshot: https://paste.websitehostserver.net/2025/07/08/text_QSUGwl4ZYP',\n",
       " 'Hussain',\n",
       " 'not working from my end last two days',\n",
       " 'and tired from different locations and browers',\n",
       " 'Abhishek R.',\n",
       " 'Could you please share a screenshot of what you are seeing on your end?',\n",
       " 'If you have a screenshot you wish to provide us, you can paste/upload your screenshot at https://snipboard.io/ or https://prnt.sc/',\n",
       " 'Once you have generated your screenshot, please provide me with the image URL so we can further assist you.',\n",
       " 'Hussain',\n",
       " 'https://snipboard.io/PTqsKx.jpg',\n",
       " 'Abhishek R.',\n",
       " 'Thank you, let me check on it. Please stay connected.',\n",
       " 'Could you please try to access the following website on a different network than the current one, like a mobile hotspot, and check if it still gives the error?',\n",
       " 'Hussain',\n",
       " 'i tired everything',\n",
       " 'Abhishek R.',\n",
       " 'Please do as suggested below:',\n",
       " '1. Clear Browser cookies/cache. You can refer to: http://www.wikihow.com/Clear-Your-Browser%27s-Cache',\n",
       " '2. Clear DNS cache. Refer to: http://www.tech-faq.com/how-to-flush-dns.html',\n",
       " '3. Reboot your Router.',\n",
       " '4. Reboot your PC and try again to access your admin.',\n",
       " 'please make sure to follow each and every step if you still get the error please let us know.']"
      ]
     },
     "execution_count": 23,
     "metadata": {},
     "output_type": "execute_result"
    }
   ],
   "source": [
    "cleaned"
   ]
  },
  {
   "cell_type": "markdown",
   "id": "d683c9b7",
   "metadata": {},
   "source": [
    "#### Split into speaker-message JSON format\n",
    "Structure cleaned input into list of {speaker, message} blocks. Used for LLM input."
   ]
  },
  {
   "cell_type": "code",
   "execution_count": 24,
   "id": "f8e76c6e",
   "metadata": {},
   "outputs": [],
   "source": [
    "import re\n",
    "from typing import List, Dict\n",
    "\n",
    "def parse_chat(chat_lines: List[str]) -> List[Dict[str, str]]:\n",
    "    agent = None\n",
    "    customer = None\n",
    "    speakers = []\n",
    "    structured_chat = []\n",
    "\n",
    "    # Step 1: Identify the agent by looking for canned response\n",
    "    for i, line in enumerate(chat_lines):\n",
    "        if \"thank you for contacting\" in line.lower():\n",
    "            if i > 0:\n",
    "                agent = chat_lines[i - 1].strip()\n",
    "                break\n",
    "\n",
    "    if not agent:\n",
    "        raise ValueError(\"Agent could not be identified from canned message.\")\n",
    "\n",
    "    # Step 2: Identify customer as first different speaker\n",
    "    for line in chat_lines:\n",
    "        if re.match(r'^[A-Za-z0-9.@_\\-\\s]{1,30}$', line.strip()):  # likely a name/email/ID line\n",
    "            name = line.strip()\n",
    "            if name != agent:\n",
    "                customer = name\n",
    "                break\n",
    "\n",
    "    if not customer:\n",
    "        raise ValueError(\"Customer could not be identified.\")\n",
    "\n",
    "    # Step 3: Replace names and build role-labeled structure\n",
    "    role_map = {agent: \"agent\", customer: \"customer\"}\n",
    "\n",
    "    current_speaker = None\n",
    "    message_buffer = []\n",
    "\n",
    "    for line in chat_lines:\n",
    "        line = line.strip()\n",
    "        \n",
    "        # Check if it's a speaker line\n",
    "        if line in role_map:\n",
    "            # Flush any buffered message\n",
    "            if current_speaker and message_buffer:\n",
    "                structured_chat.append({\n",
    "                    current_speaker: \" \".join(message_buffer).strip()\n",
    "                })\n",
    "                message_buffer = []\n",
    "            current_speaker = role_map[line]\n",
    "        else:\n",
    "            message_buffer.append(line)\n",
    "\n",
    "    # Add final message\n",
    "    if current_speaker and message_buffer:\n",
    "        structured_chat.append({\n",
    "            current_speaker: \" \".join(message_buffer).strip()\n",
    "        })\n",
    "\n",
    "    return structured_chat\n"
   ]
  },
  {
   "cell_type": "code",
   "execution_count": 25,
   "id": "abe2fab9",
   "metadata": {},
   "outputs": [],
   "source": [
    "parsed = parse_chat(cleaned)"
   ]
  },
  {
   "cell_type": "code",
   "execution_count": 26,
   "id": "3816b13a",
   "metadata": {},
   "outputs": [
    {
     "data": {
      "text/plain": [
       "[{'agent': 'Hello Hussain, thank you for contacting GreenGeeks.'},\n",
       " {'customer': 'site still down for two days baitalasaad.com Customer ID: 173020 Support PIN: 605233'},\n",
       " {'agent': 'Thank you, please allow me a moment to get your identity verified first.'},\n",
       " {'agent': 'I was able to successfully verify your account. Just a moment while I check that for you. Thank you for your patience. I can see that the website is working absolutely fine at my end, please check the screenshot: https://paste.websitehostserver.net/2025/07/08/text_QSUGwl4ZYP'},\n",
       " {'customer': 'not working from my end last two days and tired from different locations and browers'},\n",
       " {'agent': 'Could you please share a screenshot of what you are seeing on your end? If you have a screenshot you wish to provide us, you can paste/upload your screenshot at https://snipboard.io/ or https://prnt.sc/ Once you have generated your screenshot, please provide me with the image URL so we can further assist you.'},\n",
       " {'customer': 'https://snipboard.io/PTqsKx.jpg'},\n",
       " {'agent': 'Thank you, let me check on it. Please stay connected. Could you please try to access the following website on a different network than the current one, like a mobile hotspot, and check if it still gives the error?'},\n",
       " {'customer': 'i tired everything'},\n",
       " {'agent': 'Please do as suggested below: 1. Clear Browser cookies/cache. You can refer to: http://www.wikihow.com/Clear-Your-Browser%27s-Cache 2. Clear DNS cache. Refer to: http://www.tech-faq.com/how-to-flush-dns.html 3. Reboot your Router. 4. Reboot your PC and try again to access your admin. please make sure to follow each and every step if you still get the error please let us know.'}]"
      ]
     },
     "execution_count": 26,
     "metadata": {},
     "output_type": "execute_result"
    }
   ],
   "source": [
    "parsed"
   ]
  },
  {
   "cell_type": "code",
   "execution_count": null,
   "id": "d9980006",
   "metadata": {},
   "outputs": [
    {
     "ename": "ModuleNotFoundError",
     "evalue": "No module named 'src'",
     "output_type": "error",
     "traceback": [
      "\u001b[31m---------------------------------------------------------------------------\u001b[39m",
      "\u001b[31mModuleNotFoundError\u001b[39m                       Traceback (most recent call last)",
      "\u001b[36mCell\u001b[39m\u001b[36m \u001b[39m\u001b[32mIn[29]\u001b[39m\u001b[32m, line 3\u001b[39m\n\u001b[32m      1\u001b[39m \u001b[38;5;66;03m# testing local import \u001b[39;00m\n\u001b[32m----> \u001b[39m\u001b[32m3\u001b[39m \u001b[38;5;28;01mfrom\u001b[39;00m\u001b[38;5;250m \u001b[39m\u001b[34;01msrc\u001b[39;00m\u001b[38;5;250m \u001b[39m\u001b[38;5;28;01mimport\u001b[39;00m process\n",
      "\u001b[31mModuleNotFoundError\u001b[39m: No module named 'src'"
     ]
    }
   ],
   "source": [
    "# testing local import "
   ]
  }
 ],
 "metadata": {
  "kernelspec": {
   "display_name": "venv",
   "language": "python",
   "name": "python3"
  },
  "language_info": {
   "codemirror_mode": {
    "name": "ipython",
    "version": 3
   },
   "file_extension": ".py",
   "mimetype": "text/x-python",
   "name": "python",
   "nbconvert_exporter": "python",
   "pygments_lexer": "ipython3",
   "version": "3.13.5"
  }
 },
 "nbformat": 4,
 "nbformat_minor": 5
}
